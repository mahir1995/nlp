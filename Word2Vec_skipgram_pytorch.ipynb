{
  "nbformat": 4,
  "nbformat_minor": 0,
  "metadata": {
    "colab": {
      "name": "Word2Vec_skipgram_pytorch.ipynb",
      "version": "0.3.2",
      "provenance": []
    },
    "kernelspec": {
      "name": "python3",
      "display_name": "Python 3"
    }
  },
  "cells": [
    {
      "metadata": {
        "id": "GA8BBHWWFTtr",
        "colab_type": "text"
      },
      "cell_type": "markdown",
      "source": [
        "# Word2Vec"
      ]
    },
    {
      "metadata": {
        "id": "2n8LkTjQFYYV",
        "colab_type": "text"
      },
      "cell_type": "markdown",
      "source": [
        "## Import dependencies"
      ]
    },
    {
      "metadata": {
        "id": "q0UH_GDsEz3B",
        "colab_type": "code",
        "colab": {}
      },
      "cell_type": "code",
      "source": [
        "import numpy as np\n",
        "\n",
        "import torch\n",
        "import torch.nn as nn\n",
        "import torch.optim as optim\n",
        "from torch.autograd import Variable\n",
        "\n",
        "import matplotlib.pyplot as plt"
      ],
      "execution_count": 0,
      "outputs": []
    },
    {
      "metadata": {
        "id": "09uq-8dFFdNR",
        "colab_type": "text"
      },
      "cell_type": "markdown",
      "source": [
        "## Create word dict"
      ]
    },
    {
      "metadata": {
        "id": "Y6njb6F6FYHz",
        "colab_type": "code",
        "colab": {}
      },
      "cell_type": "code",
      "source": [
        "sentences = [ \"i like dog\", \"i like cat\", \"i like animal\",\n",
        "              \"dog cat animal\", \"apple cat dog like\", \"dog fish milk like\",\n",
        "              \"dog cat eyes like\", \"i like apple\", \"apple i hate\",\n",
        "              \"apple i movie book music like\", \"cat dog hate\", \"cat dog like\"]"
      ],
      "execution_count": 0,
      "outputs": []
    },
    {
      "metadata": {
        "id": "VCPEYlboFSz4",
        "colab_type": "code",
        "colab": {}
      },
      "cell_type": "code",
      "source": [
        "word_seq = \" \".join(sentences).split()\n",
        "word_list = \" \".join(sentences).split()\n",
        "word_list = list(set(word_list))\n",
        "word_dict = {w:i for i, w in enumerate(word_list)}"
      ],
      "execution_count": 0,
      "outputs": []
    },
    {
      "metadata": {
        "id": "l0C6NDtEG0ca",
        "colab_type": "text"
      },
      "cell_type": "markdown",
      "source": [
        "## Train"
      ]
    },
    {
      "metadata": {
        "id": "fx3Vj-Z4F_SH",
        "colab_type": "code",
        "colab": {}
      },
      "cell_type": "code",
      "source": [
        "bs = 20\n",
        "embedding_size = 2\n",
        "voc_size = len(word_list)"
      ],
      "execution_count": 0,
      "outputs": []
    },
    {
      "metadata": {
        "id": "-D0QeYEDHDzQ",
        "colab_type": "code",
        "colab": {}
      },
      "cell_type": "code",
      "source": [
        "def random_batch(data, size):\n",
        "    rand_inputs = []\n",
        "    rand_labels = []\n",
        "    rand_index = np.random.choice(range(len(data)), size, replace=False)\n",
        "    \n",
        "    for i in rand_index:\n",
        "        rand_inputs.append(np.eye(voc_size)[data[i][0]])\n",
        "        rand_labels.append(data[i][1])\n",
        "        \n",
        "    return rand_inputs, rand_labels"
      ],
      "execution_count": 0,
      "outputs": []
    },
    {
      "metadata": {
        "id": "htDIlO_-H9wb",
        "colab_type": "code",
        "colab": {}
      },
      "cell_type": "code",
      "source": [
        "skip_grams = []\n",
        "for i in range(len(word_seq) - 1):\n",
        "    target = word_dict[word_seq[i]]\n",
        "    context = [word_dict[word_seq[i-1]], word_dict[word_seq[i+1]]]\n",
        "    \n",
        "    for w in context:\n",
        "        skip_grams.append([target, w])"
      ],
      "execution_count": 0,
      "outputs": []
    },
    {
      "metadata": {
        "id": "hYW1yLzAJC1h",
        "colab_type": "code",
        "colab": {}
      },
      "cell_type": "code",
      "source": [
        "class Word2Vec(nn.Module):\n",
        "    def __init__(self):\n",
        "        super(Word2Vec, self).__init__()\n",
        "        \n",
        "        self.W = nn.Parameter(-2 * torch.rand(voc_size, embedding_size) + 1).type(torch.FloatTensor)\n",
        "        self.WT = nn.Parameter(-2 * torch.rand(embedding_size, voc_size) + 1).type(torch.FloatTensor)\n",
        "        \n",
        "    def forward(self, x):\n",
        "        hidden_l = torch.matmul(x, self.W)\n",
        "        op_l = torch.matmul(hidden_l, self.WT)\n",
        "        \n",
        "        return op_l"
      ],
      "execution_count": 0,
      "outputs": []
    },
    {
      "metadata": {
        "id": "y47ZSZCvK_jA",
        "colab_type": "code",
        "colab": {}
      },
      "cell_type": "code",
      "source": [
        "model = Word2Vec()"
      ],
      "execution_count": 0,
      "outputs": []
    },
    {
      "metadata": {
        "id": "_Zw3ZGULLCO-",
        "colab_type": "code",
        "colab": {}
      },
      "cell_type": "code",
      "source": [
        "criterion = nn.CrossEntropyLoss()\n",
        "opt = optim.Adam(model.parameters(), lr=0.001)"
      ],
      "execution_count": 0,
      "outputs": []
    },
    {
      "metadata": {
        "id": "SIQ230NsLMzr",
        "colab_type": "code",
        "colab": {
          "base_uri": "https://localhost:8080/",
          "height": 102
        },
        "outputId": "869bbcf7-0ff9-495c-b7d5-1a50d0bd21c3"
      },
      "cell_type": "code",
      "source": [
        "for epoch in range(5000):\n",
        "    xb, yb = random_batch(skip_grams, bs)\n",
        "    xb = Variable(torch.Tensor(xb))\n",
        "    yb = Variable(torch.LongTensor(yb))\n",
        "    \n",
        "    opt.zero_grad()\n",
        "    op = model(xb)\n",
        "    loss = criterion(op, yb)\n",
        "    \n",
        "    if (epoch + 1) % 1000 == 0:\n",
        "        print('Epoch:', epoch + 1, 'Loss:', loss.item())\n",
        "        \n",
        "    loss.backward()\n",
        "    opt.step()"
      ],
      "execution_count": 25,
      "outputs": [
        {
          "output_type": "stream",
          "text": [
            "Epoch: 1000 Loss: 1.6318743228912354\n",
            "Epoch: 2000 Loss: 1.841606855392456\n",
            "Epoch: 3000 Loss: 1.9308176040649414\n",
            "Epoch: 4000 Loss: 1.59535813331604\n",
            "Epoch: 5000 Loss: 1.6869070529937744\n"
          ],
          "name": "stdout"
        }
      ]
    },
    {
      "metadata": {
        "id": "SFZoGe4LMBnK",
        "colab_type": "code",
        "colab": {
          "base_uri": "https://localhost:8080/",
          "height": 347
        },
        "outputId": "253a472d-c8fd-4dc2-8e12-49f29fbf609e"
      },
      "cell_type": "code",
      "source": [
        "for i, label in enumerate(word_list):\n",
        "    W, WT = model.parameters()\n",
        "    x,y = float(W[i][0]), float(W[i][1])\n",
        "    plt.scatter(x, y)\n",
        "    plt.annotate(label, xy=(x, y), xytext=(5, 2), textcoords='offset points', ha='right', va='bottom')\n",
        "plt.show()"
      ],
      "execution_count": 26,
      "outputs": [
        {
          "output_type": "display_data",
          "data": {
            "image/png": "[encoded data removed]",
            "text/plain": [
              "<Figure size 576x396 with 1 Axes>"
            ]
          },
          "metadata": {
            "tags": []
          }
        }
      ]
    },
    {
      "metadata": {
        "id": "0y7j8qnPMln-",
        "colab_type": "code",
        "colab": {}
      },
      "cell_type": "code",
      "source": [
        ""
      ],
      "execution_count": 0,
      "outputs": []
    }
  ]
}